{
  "cells": [
    {
      "cell_type": "markdown",
      "metadata": {
        "id": "lDvNEzJhBWRo"
      },
      "source": [
        "# Podstawy głębokich sieci neuronowych\n",
        "### Lab 2\n",
        "Paweł Marczewski, 148099"
      ]
    },
    {
      "cell_type": "code",
      "execution_count": 1,
      "metadata": {
        "id": "phrAMlCE76k3"
      },
      "outputs": [],
      "source": [
        "import tensorflow as tf"
      ]
    },
    {
      "cell_type": "markdown",
      "metadata": {
        "id": "jkVi3uQ06Zrc"
      },
      "source": [
        "## Zadanie 1\n",
        "\n",
        "Napisać funkcję, która:\n",
        "- Przyjmie na wejście tensor o dowolnym kształcie typu `tf.float32`.\n",
        "- Utworzy maskę według warunku _x > 0_\n",
        "- Na podstawie maski utworzy wektor elementów z tensora wejściowego\n",
        "- Przeprowadzi mnożenie algebraiczne wynikowego wektora o siebie, ale z\n",
        "transpozycją drugiego czynnika.\n",
        "- Dorobi dodatkowy wymiar w osi 0 i powtórzy tensor 5 razy wzdłuż tej osi\n",
        "- Zwróci wynik\n",
        "\n",
        "Funkcję wywołać dla trzech tensorów powstałych przez użycie operacji `tf.random.uniform()` z\n",
        "wartościami z zakresu _<-10,10>_ przy argumentach _shape_:\n",
        "- `[3]`\n",
        "- `[33, 7]`\n",
        "- `[2, 32, 6]`\n",
        "\n",
        "**Należy wykorzystać operacje**: [`tf.boolean_mask`](https://www.tensorflow.org/api_docs/python/tf/boolean_mask), [`tf.transpose`](https://www.tensorflow.org/api_docs/python/tf/transpose), [`tf.linalg.matmul`](https://www.tensorflow.org/api_docs/python/tf/linalg/matmul), [`tf.expand_dims`](https://www.tensorflow.org/api_docs/python/tf/expand_dims), [`tf.repeat`](https://www.tensorflow.org/api_docs/python/tf/repeat)"
      ]
    },
    {
      "cell_type": "code",
      "execution_count": 2,
      "metadata": {
        "id": "gTj_UGmP7Pp3",
        "colab": {
          "base_uri": "https://localhost:8080/"
        },
        "outputId": "f7dc1eaf-cdbc-4c46-cbe4-e1441e66108c"
      },
      "outputs": [
        {
          "output_type": "stream",
          "name": "stdout",
          "text": [
            "tf.Tensor(\n",
            "[[[99.46262]]\n",
            "\n",
            " [[99.46262]]\n",
            "\n",
            " [[99.46262]]\n",
            "\n",
            " [[99.46262]]\n",
            "\n",
            " [[99.46262]]], shape=(5, 1, 1), dtype=float32)\n",
            "tf.Tensor(\n",
            "[[[3108.901]]\n",
            "\n",
            " [[3108.901]]\n",
            "\n",
            " [[3108.901]]\n",
            "\n",
            " [[3108.901]]\n",
            "\n",
            " [[3108.901]]], shape=(5, 1, 1), dtype=float32)\n",
            "tf.Tensor(\n",
            "[[[6160.5493]]\n",
            "\n",
            " [[6160.5493]]\n",
            "\n",
            " [[6160.5493]]\n",
            "\n",
            " [[6160.5493]]\n",
            "\n",
            " [[6160.5493]]], shape=(5, 1, 1), dtype=float32)\n"
          ]
        }
      ],
      "source": [
        "def zad1(T)->tf.Tensor:\n",
        "    assert T.dtype == tf.float32\n",
        "    mask = T > 0\n",
        "    vec = tf.boolean_mask(T,mask)\n",
        "    vec=vec[tf.newaxis]\n",
        "    vec=tf.linalg.matmul(vec,tf.transpose(vec))\n",
        "    vec=tf.expand_dims(vec,0)\n",
        "    vec=tf.repeat(vec,5,axis=0)\n",
        "    return vec\n",
        "\n",
        "T1=tf.random.uniform([3],-10,10)\n",
        "T2=tf.random.uniform([33,7],-10,10)\n",
        "T3=tf.random.uniform([2,32,6],-10,10)\n",
        "print(zad1(T1))\n",
        "print(zad1(T2))\n",
        "print(zad1(T3))"
      ]
    },
    {
      "cell_type": "markdown",
      "metadata": {
        "id": "T8RUxQZr_wRv"
      },
      "source": [
        "## Zadanie 2\n",
        "Napisać funkcję, która:\n",
        "- Przyjmie na wejście tensor o dowolnym kształcie typu `tf.float32`.\n",
        "- Sprawdzi, czy wartość minimalna w tensorze jest większa od zera. Jeśli jest, to wytnie pierwszą kolumnę tensora, a jeśli nie to drugą (za pomocą slicingu).\n",
        "- Podzieli wynikowy tensor przez 8\n",
        "- Zaokrągli wartości w tensorze do najbliższych liczb całkowitych\n",
        "- Zmieni typ tensora na `tf.int32` i zwróci go\n",
        "\n",
        "Funkcję wywołać dla tensorów:\n",
        "- `[[5, 6], [7, 3], [4, 5]]`\n",
        "- `[[-4, 5, 6], [7, 8, 9]]`\n",
        "\n",
        "**Należy wykorzystać operacje**: [`tf.constant`](https://www.tensorflow.org/api_docs/python/tf/constant), [`tf.math.reduce_min`](https://www.tensorflow.org/api_docs/python/tf/math/reduce_min), [`tf.where`](https://www.tensorflow.org/api_docs/python/tf/where), [`tf.math.round`](https://www.tensorflow.org/api_docs/python/tf/math/round), [`tf.cast`](https://www.tensorflow.org/api_docs/python/tf/cast)"
      ]
    },
    {
      "cell_type": "code",
      "execution_count": 9,
      "metadata": {
        "id": "VrYG-rOZ_vqu",
        "colab": {
          "base_uri": "https://localhost:8080/"
        },
        "outputId": "d911b586-767e-4042-e768-6af799c5cc46"
      },
      "outputs": [
        {
          "output_type": "stream",
          "name": "stdout",
          "text": [
            "tf.Tensor(\n",
            "[[5. 6.]\n",
            " [7. 3.]\n",
            " [4. 5.]], shape=(3, 2), dtype=float32)\n",
            "tf.Tensor(\n",
            "[[6.]\n",
            " [3.]\n",
            " [5.]], shape=(3, 1), dtype=float32)\n",
            "tf.Tensor(\n",
            "[[1]\n",
            " [0]\n",
            " [1]], shape=(3, 1), dtype=int32)\n",
            "tf.Tensor(\n",
            "[[-4.  5.  6.]\n",
            " [ 7.  8.  9.]], shape=(2, 3), dtype=float32)\n",
            "tf.Tensor(\n",
            "[[-4.  6.]\n",
            " [ 7.  9.]], shape=(2, 2), dtype=float32)\n",
            "tf.Tensor(\n",
            "[[0 1]\n",
            " [1 1]], shape=(2, 2), dtype=int32)\n"
          ]
        }
      ],
      "source": [
        "def zad2(T)->tf.Tensor:\n",
        "    assert T.dtype == tf.float32\n",
        "    minval = tf.math.reduce_min(T)\n",
        "    print(T)\n",
        "    if(minval>0):\n",
        "        T=T[:,1:]\n",
        "    else:\n",
        "        T=tf.concat([T[:,:1],T[:,2:]],1) # wytnij drugą kolumnę\n",
        "    print(T)\n",
        "    T=T/8\n",
        "    T=tf.math.round(T)\n",
        "    T=tf.cast(T, dtype=tf.int32)\n",
        "    return T\n",
        "T1=tf.constant([[5, 6], [7, 3], [4, 5]],dtype=tf.float32)\n",
        "T2=tf.constant([[-4, 5, 6], [7, 8, 9]],dtype=tf.float32)\n",
        "print(zad2(T1))\n",
        "print(zad2(T2))"
      ]
    },
    {
      "cell_type": "markdown",
      "metadata": {
        "id": "3vaMV2gXAqgO"
      },
      "source": [
        "## Zadanie 3\n",
        "\n",
        "Napisać funkcję, która:\n",
        "- Przyjmie na wejście tensory o dowolnych, ale identycznych kształtach typu `tf.float32` (należy zabezpieczyć się przed odmiennymi kształtami przez asercję).\n",
        "- Utworzy tensor indeksów elementów większych od 0 i mniejszych od 4 dla tensora\n",
        "pierwszego.\n",
        "- Na podstawie tego tensora indeksów podmieni odpowiadające wartości w tensorze\n",
        "drugim na wartość 7.\n",
        "- Zwróci zmodyfikowany tensor\n",
        "\n",
        "Funkcję wywołać dla tensorów:\n",
        "- `x1 = [[8, 9, 0], [2, 3, 4], [6, 1, 8]]` i `x2 = [[4, 5, 8], [23, 32, 14], [6, 1, 15]]`\n",
        "- `x1 = [[8, 9], [3, 4], [6, 2]]` i `x2 = [[5, 8], [23, 14], [6, 1]]`\n",
        "\n",
        "**Należy wykorzystać operacje**: [`tf.constant`](https://www.tensorflow.org/api_docs/python/tf/constant), [`tf.shape`](https://www.tensorflow.org/api_docs/python/tf/shape), [`tf.where`](https://www.tensorflow.org/api_docs/python/tf/where), [`tf.tensor_scatter_nd_update`](https://www.tensorflow.org/api_docs/python/tf/tensor_scatter_nd_update), [`tf.math.logical_and`](https://www.tensorflow.org/api_docs/python/tf/math/logical_and)"
      ]
    },
    {
      "cell_type": "code",
      "execution_count": 23,
      "metadata": {
        "id": "OJV9gjn3CSFw",
        "outputId": "d525b291-dab0-4139-9a6c-1ba5b7724000",
        "colab": {
          "base_uri": "https://localhost:8080/"
        }
      },
      "outputs": [
        {
          "output_type": "stream",
          "name": "stdout",
          "text": [
            "tf.Tensor(\n",
            "[[ 4.  5.  8.]\n",
            " [ 7.  7. 14.]\n",
            " [ 6.  7. 15.]], shape=(3, 3), dtype=float32)\n",
            "tf.Tensor(\n",
            "[[ 5.  8.]\n",
            " [ 7. 14.]\n",
            " [ 6.  7.]], shape=(3, 2), dtype=float32)\n"
          ]
        }
      ],
      "source": [
        "def zad3(T1,T2)->tf.Tensor:\n",
        "    assert all(tf.shape(T1) == tf.shape(T2))\n",
        "    assert T1.dtype == tf.float32\n",
        "    assert T2.dtype == tf.float32\n",
        "    id1 = 0 < T1\n",
        "    id2 =  T1 < 4\n",
        "    id = tf.where(tf.math.logical_and(id1,id2))\n",
        "    updates = tf.constant([7], shape=[tf.shape(id)[0]], dtype=tf.float32)\n",
        "    return tf.tensor_scatter_nd_update(T2,id,updates)\n",
        "\n",
        "T1=tf.constant([[8, 9, 0], [2, 3, 4], [6, 1, 8]],dtype=tf.float32)\n",
        "T2=tf.constant([[4, 5, 8], [23, 32, 14], [6, 1, 15]],dtype=tf.float32)\n",
        "print(zad3(T1,T2))\n",
        "T1=tf.constant([[8, 9], [3, 4], [6, 2]],dtype=tf.float32)\n",
        "T2=tf.constant([[5, 8], [23, 14], [6, 1]],dtype=tf.float32)\n",
        "print(zad3(T1,T2))"
      ]
    },
    {
      "cell_type": "code",
      "execution_count": null,
      "metadata": {
        "id": "2c6Dnp-eaBg0"
      },
      "outputs": [],
      "source": []
    }
  ],
  "metadata": {
    "colab": {
      "provenance": []
    },
    "kernelspec": {
      "display_name": "Python 3 (ipykernel)",
      "language": "python",
      "name": "python3"
    },
    "language_info": {
      "codemirror_mode": {
        "name": "ipython",
        "version": 3
      },
      "file_extension": ".py",
      "mimetype": "text/x-python",
      "name": "python",
      "nbconvert_exporter": "python",
      "pygments_lexer": "ipython3",
      "version": "3.10.12"
    }
  },
  "nbformat": 4,
  "nbformat_minor": 0
}