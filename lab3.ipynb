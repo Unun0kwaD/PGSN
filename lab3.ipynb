{
 "cells": [
  {
   "cell_type": "code",
   "execution_count": 38,
   "id": "e2ed02bb-e24f-4ade-a364-ab1e34cb0d67",
   "metadata": {},
   "outputs": [],
   "source": [
    "import tensorflow as tf\n",
    "import numpy as np\n",
    "from timeit import repeat\n"
   ]
  },
  {
   "cell_type": "code",
   "execution_count": 49,
   "id": "b2fb8dc6-e4f1-4edd-a62e-6078e6ae4dda",
   "metadata": {},
   "outputs": [
    {
     "name": "stdout",
     "output_type": "stream",
     "text": [
      "Wykonanie z @tf.function:\n",
      "0.0001653287849883782\n",
      "0.00016440109426788695\n",
      "Wykonanie bez @tf.function:\n",
      "8.829040118936973e-05\n",
      "8.837230140123211e-05\n"
     ]
    }
   ],
   "source": [
    "@tf.function\n",
    "def neural_net(x: tf.Tensor, w1: tf.Tensor, w2: tf.Tensor, b1: tf.Tensor, b2:\n",
    "tf.Tensor):\n",
    "    x2=x@w1+b1\n",
    "    x2=tf.math.sigmoid(x2)\n",
    "    y=x2@w2+b2\n",
    "    y=tf.math.sigmoid(y)\n",
    "    return y\n",
    "    \n",
    "w1 =tf.constant([[ 1.4334732, -1.5244598 , 1.139654 , 2.723477, 2.372128, -1.8221221],\n",
    "[ 1.6633688, -1.3922757, 2.0349483, 1.6314147, 1.6997916, -1.719175],\n",
    "[ 1.6464833, -1.6136154, 1.6790704, 2.1913328, 1.7154503, -2.122219],\n",
    "[ 2.2029521, -2.2169485, 1.1411709, 1.7363839, 1.9620435, -1.990284],\n",
    "[ 1.864349, -1.9724554, 1.282788, 1.3895663 , 1.2881863, -1.3681948],\n",
    "[ 0.4421571, 0.24537054, 0.49080196, -0.0939824, 0.36308903, -0.32526237],\n",
    "[-1.6102886, 1.7532632, -1.3683709, -1.2728035, -1.8335032, 1.6637068],\n",
    "[-1.0453694, 0.95990705, -1.913037, -1.637573 , -1.8312218, 1.9757035],\n",
    "[-2.6982157, 1.5073962, -2.243781, -2.7327728 , -2.5648139, 1.9095569],\n",
    "[-2.0628226, 2.3980575, -1.3550557, -2.1798916 , -2.1485612, 2.2912557]])\n",
    "b1 = tf.constant([-1.6460503, 1.5486399, -1.5155386, -1.6247352, -1.2638505, 1.5515162])\n",
    "w2 = tf.constant([[ 2.220895 ], [-2.903738 ], [ 1.7675139], [ 2.3042984], [ 2.6292808], [-2.763858 ]])\n",
    "b2 = tf.constant([-1.1827456])\n",
    "\n",
    "\n",
    "x1 = tf.constant([[0.85, 0.86, 0.76, 0.73, 0.95, 0.5, 0.5, 0.5, 0.5, 0.5]])\n",
    "x2 = tf.constant([[0.5, 0.5, 0.5, 0.5, 0.5, 0.5, 0.5, 0.5, 0.67, 0.87]])\n",
    "\n",
    "print(\"Wykonanie z @tf.function:\")\n",
    "print(np.mean(repeat(lambda: neural_net([x1],w1,w2,b1,b2), number=1, repeat=100000)))\n",
    "print(np.mean(repeat(lambda: neural_net([x2],w1,w2,b1,b2), number=1, repeat=100000)))\n",
    "\n",
    "\n",
    "def neural_net(x: tf.Tensor, w1: tf.Tensor, w2: tf.Tensor, b1: tf.Tensor, b2: tf.Tensor):\n",
    "    x2=x@w1+b1\n",
    "    x2=tf.math.sigmoid(x2)\n",
    "    y=x2@w2+b2\n",
    "    y=tf.math.sigmoid(y)\n",
    "    return y\n",
    "\n",
    "print(\"Wykonanie bez @tf.function:\")\n",
    "print(np.mean(repeat(lambda: neural_net([x1],w1,w2,b1,b2), number=1, repeat=100000)))\n",
    "print(np.mean(repeat(lambda: neural_net([x2],w1,w2,b1,b2), number=1, repeat=100000)))"
   ]
  },
  {
   "cell_type": "code",
   "execution_count": null,
   "id": "5312e330-72cb-468c-9203-d3de678182a0",
   "metadata": {},
   "outputs": [],
   "source": [
    "Wolniejsze wykonanie z tf.function może wynikać z wykonania może wynikaż z tego że narzut związany z przetwarzaniem równoległym moze być wiekszy niż korzysći z niego płynące przez to że jest to stosunkowo mała sieć"
   ]
  },
  {
   "cell_type": "code",
   "execution_count": 50,
   "id": "708c3442-ae78-42f1-8730-f7113eaecbd2",
   "metadata": {},
   "outputs": [
    {
     "data": {
      "text/plain": [
       "[PhysicalDevice(name='/physical_device:CPU:0', device_type='CPU'),\n",
       " PhysicalDevice(name='/physical_device:GPU:0', device_type='GPU')]"
      ]
     },
     "execution_count": 50,
     "metadata": {},
     "output_type": "execute_result"
    }
   ],
   "source": [
    "tf.config.list_physical_devices(device_type=None)"
   ]
  },
  {
   "cell_type": "code",
   "execution_count": 51,
   "id": "a3142ce9-e96f-43b8-991c-2f6156d30545",
   "metadata": {},
   "outputs": [
    {
     "data": {
      "text/plain": [
       "'/job:localhost/replica:0/task:0/device:GPU:0'"
      ]
     },
     "execution_count": 51,
     "metadata": {},
     "output_type": "execute_result"
    }
   ],
   "source": [
    "neural_net([x1],w1,w2,b1,b2).device"
   ]
  }
 ],
 "metadata": {
  "kernelspec": {
   "display_name": "Python 3 (ipykernel)",
   "language": "python",
   "name": "python3"
  },
  "language_info": {
   "codemirror_mode": {
    "name": "ipython",
    "version": 3
   },
   "file_extension": ".py",
   "mimetype": "text/x-python",
   "name": "python",
   "nbconvert_exporter": "python",
   "pygments_lexer": "ipython3",
   "version": "3.10.12"
  }
 },
 "nbformat": 4,
 "nbformat_minor": 5
}
