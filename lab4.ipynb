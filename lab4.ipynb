{
  "cells": [
    {
      "cell_type": "code",
      "execution_count": null,
      "id": "6f0e9739-a89d-424d-ae03-67ba55029d2f",
      "metadata": {
        "id": "6f0e9739-a89d-424d-ae03-67ba55029d2f"
      },
      "outputs": [],
      "source": [
        "Podstawy keras i metryki\n",
        "Zadanie 1\n",
        "1. Za pomocą linii:\n",
        "(trainX, trainY), (testX, testY) = tf.keras.datasets.mnist.load_data()\n",
        "należy pobrać zbiór danych MNiST, zawierający czarno-białe zdjęcia odręcznie\n",
        "pisanych cyfr.\n",
        "Tablice trainX i testX należy zcastować do tf.float32, po czym znormalizować\n",
        "do przedziału <0,1> dzieląc je przez 255.0.\n",
        "2. Zadeklarować model w Keras o strukturze\n",
        "1. Flatten (warstwa wypłaszczająca tensory do wektorów)\n",
        "2. Dense-128-ReLU\n",
        "3. Dense-128-ReLU\n",
        "4. Dense-10-Softmax\n",
        "Należy zrobić to na dwa sposoby (dwie osobne funkcje zwracające obiekt):\n",
        "1. Za pomocą Sequential API:\n",
        "https://www.tensorflow.org/guide/keras/sequential_model\n",
        "2. Za pomocą Functional API:\n",
        "https://www.tensorflow.org/guide/keras/functional\n",
        "Model ten będzie realizował zadanie klasyfikacji wieloklasowej ręcznie\n",
        "pisanych cyfr.\n",
        "3. Załadować do google colab plik model_w.h5 i wczytać go jako parametry obu\n",
        "modeli za pomocą model.load_weights().\n",
        "4. Dla zbioru testowego MNiST (testX, testY) obliczyć wartości poniższych\n",
        "metryk:\n",
        "- accuracy\n",
        "- precision\n",
        "- recall\n",
        "Można wykorzystać w tym celu moduł tf.keras.metrics i model.evaluate() lub\n",
        "sklearn.metrics. Należy upewnić się, że oba modele zwracają te same wartości\n",
        "metryk dla zbioru testowego. Można wybrać dowolny tryb uśredniania metryk\n",
        "(micro lub macro)."
      ]
    },
    {
      "cell_type": "code",
      "execution_count": 30,
      "id": "60dc6522-9598-41ba-bc4f-40cb4cde2f0f",
      "metadata": {
        "id": "60dc6522-9598-41ba-bc4f-40cb4cde2f0f"
      },
      "outputs": [],
      "source": [
        "import tensorflow as tf\n",
        "\n",
        "(trainX, trainY), (testX, testY) = tf.keras.datasets.mnist.load_data()\n",
        "trainX = tf.cast(trainX, tf.float32)/255.0\n",
        "testX = tf.cast(testX, tf.float32)/255.0\n",
        "\n",
        "model1 = tf.keras.Sequential([\n",
        "    tf.keras.Input(shape=(28,28)),\n",
        "tf.keras.layers.Flatten(),\n",
        "tf.keras.layers.Dense(128, activation=\"relu\"),\n",
        "tf.keras.layers.Dense(128, activation=\"relu\"),\n",
        "tf.keras.layers.Dense(10, activation=\"softmax\"),\n",
        "])"
      ]
    },
    {
      "cell_type": "code",
      "execution_count": 31,
      "id": "b92cf9ce-1d0d-4fa0-9794-b29604add98f",
      "metadata": {
        "id": "b92cf9ce-1d0d-4fa0-9794-b29604add98f"
      },
      "outputs": [],
      "source": [
        "inputs = tf.keras.Input(shape=(28,28))\n",
        "layer1 = tf.keras.layers.Flatten()\n",
        "layer2 = tf.keras.layers.Dense(128, activation=\"relu\")\n",
        "layer3 = tf.keras.layers.Dense(128, activation=\"relu\")\n",
        "layer4 = tf.keras.layers.Dense(10, activation=\"softmax\")\n",
        "x = inputs\n",
        "x = layer1(x)\n",
        "x = layer2(x)\n",
        "x = layer3(x)\n",
        "outputs = layer4(x)\n",
        "model2 = tf.keras.Model(inputs=inputs, outputs=outputs)"
      ]
    },
    {
      "cell_type": "code",
      "execution_count": 32,
      "id": "ac4450c3-89a5-4a32-b8db-773c9cb6f870",
      "metadata": {
        "id": "ac4450c3-89a5-4a32-b8db-773c9cb6f870"
      },
      "outputs": [],
      "source": [
        "model1.compile()\n",
        "model1.load_weights(\"model_w.h5\")"
      ]
    },
    {
      "cell_type": "code",
      "execution_count": 33,
      "id": "91e8f2b3-75c6-49b8-b9f0-5605b0ce42f0",
      "metadata": {
        "id": "91e8f2b3-75c6-49b8-b9f0-5605b0ce42f0"
      },
      "outputs": [],
      "source": [
        "model2.compile()\n",
        "model2.load_weights(\"model_w.h5\")"
      ]
    },
    {
      "cell_type": "code",
      "execution_count": 34,
      "id": "84b50df1-f631-4dd6-9dc3-e4bfba41c7bf",
      "metadata": {
        "id": "84b50df1-f631-4dd6-9dc3-e4bfba41c7bf"
      },
      "outputs": [],
      "source": [
        "from sklearn.metrics import accuracy_score, precision_score, recall_score"
      ]
    },
    {
      "cell_type": "code",
      "execution_count": 35,
      "id": "3b07bd6b-5ff1-43bf-b103-848eecacc342",
      "metadata": {
        "colab": {
          "base_uri": "https://localhost:8080/"
        },
        "id": "3b07bd6b-5ff1-43bf-b103-848eecacc342",
        "outputId": "663a9dee-bab3-4e6c-af6d-96820c820ef9"
      },
      "outputs": [
        {
          "output_type": "stream",
          "name": "stdout",
          "text": [
            "313/313 [==============================] - 1s 3ms/step\n",
            "Accuracy: 0.9778\n",
            "Precision: 0.9778581534433096\n",
            "Recall: 0.9775777296255154\n"
          ]
        }
      ],
      "source": [
        "y_true = testY\n",
        "y_pred = model1.predict(testX).argmax(axis=-1)\n",
        "print(f'Accuracy: {accuracy_score(y_true, y_pred)}')\n",
        "print(f'Precision: {precision_score(y_true, y_pred, average=\"macro\")}')\n",
        "print(f'Recall: {recall_score(y_true, y_pred, average=\"macro\")}')"
      ]
    },
    {
      "cell_type": "code",
      "execution_count": 36,
      "id": "d466fc66-20dc-4896-ab38-007eb11fbb72",
      "metadata": {
        "colab": {
          "base_uri": "https://localhost:8080/"
        },
        "id": "d466fc66-20dc-4896-ab38-007eb11fbb72",
        "outputId": "e55ac613-4341-4845-cd8a-511b670c3b11"
      },
      "outputs": [
        {
          "output_type": "stream",
          "name": "stdout",
          "text": [
            "313/313 [==============================] - 1s 3ms/step\n",
            "Accuracy: 0.9778\n",
            "Precision: 0.9778581534433096\n",
            "Recall: 0.9775777296255154\n"
          ]
        }
      ],
      "source": [
        "y_true = testY\n",
        "y_pred = model2.predict(testX).argmax(axis=-1)\n",
        "print(f'Accuracy: {accuracy_score(y_true, y_pred)}')\n",
        "print(f'Precision: {precision_score(y_true, y_pred, average=\"macro\")}')\n",
        "print(f'Recall: {recall_score(y_true, y_pred, average=\"macro\")}')"
      ]
    },
    {
      "cell_type": "code",
      "execution_count": null,
      "id": "2f8ea56d-5d7e-422c-8d7b-68b177f563aa",
      "metadata": {
        "id": "2f8ea56d-5d7e-422c-8d7b-68b177f563aa"
      },
      "outputs": [],
      "source": [
        "Zadanie 2\n",
        "Za pomocą Keras Functional API zadeklarować nowy model, który:\n",
        "- przyjmie na wejście skalar o precyzji tf.float32, a także batch obrazów ze\n",
        "zbioru MNiST o precyzji tf.float32 (batch o dowolnej ilości obrazów)\n",
        "- przetworzy batch obrazów z MNiST za pomocą modelu sekwencyjnego z\n",
        "poprzedniego zadania (z wczytanymi parametrami)\n",
        "- doda do predykcji modelu skalar przyjęty na wejściu, po czym zwróci surowe\n",
        "predykcje i te po dodawaniu.\n",
        "Model należy wywołać dla batcha składającego się z 5ciu pierwszych obrazów\n",
        "w zbiorze testowym MNiST i wartości skalarnej 5 na wejście.\n",
        "Na ekursy należy wstawić plik .ipynb z kodem, zwizualizowanymi\n",
        "wynikami metryk dla obu modeli z zadania 1 i wynikami wywołania\n",
        "modelu na zadane inputy z zadania 2"
      ]
    },
    {
      "cell_type": "code",
      "execution_count": 37,
      "id": "c8adf208-462e-4b2f-8e1b-8159801636cb",
      "metadata": {
        "id": "c8adf208-462e-4b2f-8e1b-8159801636cb"
      },
      "outputs": [],
      "source": [
        "input1 = tf.keras.Input(shape=(1,),dtype=tf.float32)\n",
        "input2 = tf.keras.Input(shape=(28,28),dtype=tf.float32)\n",
        "add = tf.keras.layers.Add()\n",
        "x1 = input1\n",
        "x2 = model1(input2)\n",
        "outputs = add([x1,x2])\n",
        "model = tf.keras.Model(inputs=[input1,input2], outputs=outputs)"
      ]
    },
    {
      "cell_type": "code",
      "execution_count": 38,
      "id": "63d4e63f-d5b2-48ab-9030-333b0b960dad",
      "metadata": {
        "id": "63d4e63f-d5b2-48ab-9030-333b0b960dad"
      },
      "outputs": [],
      "source": [
        "model.compile()"
      ]
    },
    {
      "cell_type": "code",
      "execution_count": 39,
      "id": "aa63b1e7-ec17-4c91-b204-b705073bebca",
      "metadata": {
        "colab": {
          "base_uri": "https://localhost:8080/"
        },
        "id": "aa63b1e7-ec17-4c91-b204-b705073bebca",
        "outputId": "f50058f8-994e-4de7-a604-dc24eba3bce2"
      },
      "outputs": [
        {
          "output_type": "stream",
          "name": "stdout",
          "text": [
            "1/1 [==============================] - 0s 130ms/step\n",
            "Predictions:\n",
            "[[5.        5.        5.000009  5.0000825 5.        5.        5.\n",
            "  5.9999003 5.        5.0000076]\n",
            " [5.        5.0000005 5.9999986 5.0000005 5.        5.        5.\n",
            "  5.        5.        5.       ]\n",
            " [5.000001  5.997919  5.000085  5.0000052 5.0000863 5.000003  5.000053\n",
            "  5.001419  5.000413  5.0000153]\n",
            " [5.9998727 5.        5.0000997 5.        5.        5.0000005 5.0000043\n",
            "  5.0000086 5.        5.000014 ]\n",
            " [5.        5.        5.        5.        5.999375  5.000003  5.\n",
            "  5.000003  5.0000024 5.000617 ]]\n"
          ]
        }
      ],
      "source": [
        "input_scalar = tf.constant([5.], dtype=tf.float32)\n",
        "input_scalar = tf.tile(input_scalar,[5])\n",
        "input_images = testX[:5]\n",
        "\n",
        "y_pred= model.predict([input_scalar, input_images])\n",
        "\n",
        "print(\"Predictions:\")\n",
        "print(y_pred)\n"
      ]
    }
  ],
  "metadata": {
    "kernelspec": {
      "display_name": "Python 3 (ipykernel)",
      "language": "python",
      "name": "python3"
    },
    "language_info": {
      "codemirror_mode": {
        "name": "ipython",
        "version": 3
      },
      "file_extension": ".py",
      "mimetype": "text/x-python",
      "name": "python",
      "nbconvert_exporter": "python",
      "pygments_lexer": "ipython3",
      "version": "3.10.12"
    },
    "colab": {
      "provenance": []
    }
  },
  "nbformat": 4,
  "nbformat_minor": 5
}