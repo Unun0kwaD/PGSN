{
  "nbformat": 4,
  "nbformat_minor": 0,
  "metadata": {
    "colab": {
      "provenance": []
    },
    "kernelspec": {
      "name": "python3",
      "display_name": "Python 3"
    },
    "language_info": {
      "name": "python"
    }
  },
  "cells": [
    {
      "cell_type": "markdown",
      "source": [
        "Zadanie 1\n",
        "Napisać funkcję, która:\n",
        "• Przyjmie na wejście tensor o dowolnym kształcie typu tf.float32.\n",
        "• Przemnoży go o samego siebie element po elemencie\n",
        "• Odejmie macierz złożoną z samych jedynek o tym samym rozmiarze\n",
        "• Wyzeruje wszystkie wartości powyżej 2\n",
        "• Wypłaszczy wynikową macierz do wektora i ją zwróci\n",
        "Funkcję wywołać dla trzech tensorów powstałych przez użycie operacji tf.random.uniform() z\n",
        "wartościami z zakresu 0-10 przy argumentach „shape”:\n",
        "- [5]\n",
        "- [10, 5]\n",
        "- [5, 7, 9]\n",
        "Należy wykorzystać operacje: tf.random.uniform, tf.ones_like, tf.where, tf.reshape."
      ],
      "metadata": {
        "id": "PILz-MXcnm9O"
      }
    },
    {
      "cell_type": "code",
      "execution_count": 2,
      "metadata": {
        "colab": {
          "base_uri": "https://localhost:8080/"
        },
        "id": "fSN7sVjhlDaf",
        "outputId": "0fa0bc24-5b00-4299-b069-d3f3bff656c5"
      },
      "outputs": [
        {
          "output_type": "stream",
          "name": "stdout",
          "text": [
            "Wynik dla tensora o kształcie [5]: tf.Tensor([0. 0. 0. 0. 0.], shape=(5,), dtype=float32)\n",
            "Wynik dla tensora o kształcie [10, 5]: tf.Tensor(\n",
            "[ 0.         0.         0.         0.         0.         0.\n",
            "  0.         0.         0.         0.         0.         0.\n",
            "  0.         0.         0.         0.         0.         0.\n",
            "  0.         0.         0.         0.         0.        -0.2079724\n",
            "  0.         0.         0.         0.         0.         1.3590169\n",
            " -0.9900617  0.         0.         0.         0.         0.\n",
            "  0.         0.         0.         0.        -0.2814558  0.\n",
            "  0.         0.         0.         0.         0.        -0.4986422\n",
            "  0.         0.       ], shape=(50,), dtype=float32)\n",
            "Wynik dla tensora o kształcie [5, 7, 9]: tf.Tensor(\n",
            "[ 0.          0.          0.          0.         -0.13269597  0.\n",
            "  0.6156771   0.          0.          0.          0.          0.\n",
            "  0.         -0.60803723  0.         -0.7865039   0.          0.\n",
            "  0.          0.          0.         -0.48273194  0.          0.\n",
            "  0.          1.9058273   0.          0.          0.          0.\n",
            "  0.          0.          0.          0.          0.          0.\n",
            "  0.          0.          0.          0.12785625  0.          0.\n",
            "  0.          0.          0.          0.05332875  0.          0.\n",
            "  0.          0.          0.          0.          0.          0.\n",
            "  0.          0.          0.          0.          0.          0.\n",
            "  0.          0.          0.          0.          0.         -0.6596227\n",
            "  0.          0.          0.          1.0541329   0.          0.\n",
            "  0.          1.0132244   0.          0.          0.          0.\n",
            "  0.          0.          0.          0.          0.         -0.9994942\n",
            "  0.          0.          0.          0.          0.          0.\n",
            "  0.          0.          0.          0.          0.          0.\n",
            "  0.         -0.44227773  0.          0.          0.          0.\n",
            "  0.         -0.7878721   0.          0.          0.07987928  0.89302015\n",
            "  0.          0.         -0.06324428  0.          0.          0.\n",
            "  0.          0.          0.          0.          0.          0.\n",
            "  1.5886815   0.          0.          1.7697992   0.          0.25276875\n",
            "  0.          0.          0.          0.          0.          0.\n",
            "  0.          0.          0.          0.          0.          0.7350364\n",
            "  0.          0.          0.          0.          0.          0.\n",
            "  0.          0.          0.          0.          0.          0.\n",
            "  0.          0.          0.          0.          0.          0.\n",
            "  0.          0.          0.          0.          1.8207095   0.\n",
            " -0.9069674   0.          0.          0.          0.          0.\n",
            "  0.          0.          0.          0.          0.          0.7643467\n",
            "  0.          0.597738    0.          0.          0.          0.\n",
            "  1.4100809   0.          0.          0.          0.          0.\n",
            "  1.9710908   0.09674013  0.          0.          0.          0.\n",
            "  0.          0.          0.          0.          0.          0.\n",
            "  0.          0.         -0.9966823   0.          0.40631068  0.\n",
            "  0.          0.          1.6925032   0.          0.          0.03343952\n",
            "  0.          0.         -0.9824905   0.          0.         -0.50686\n",
            "  0.          0.          0.          0.          0.          0.\n",
            "  0.         -0.7567363   0.          0.          0.          0.\n",
            "  0.          0.          0.          0.         -0.50797105  0.\n",
            "  0.          0.          0.          0.          0.          0.\n",
            "  0.          0.          0.          0.          0.          0.\n",
            "  0.          0.         -0.95644045  0.         -0.58930814  0.\n",
            "  0.          0.          0.          0.          0.          0.\n",
            "  0.          0.          0.          0.          0.          0.\n",
            "  0.         -0.4242869   0.          0.          0.6651107  -0.42125463\n",
            "  1.6037366   0.          0.          0.          0.          0.\n",
            " -0.9794555   0.          0.          0.          1.9596117   0.\n",
            "  0.          0.          0.          0.          0.          0.57735884\n",
            "  0.          0.          0.         -0.859734    0.          0.\n",
            "  0.          0.          1.6181796   0.          0.          0.\n",
            "  0.         -0.6980314  -0.4356596   0.          0.          0.\n",
            "  0.          0.          0.          0.         -0.03216863  1.713309\n",
            "  0.          0.          0.        ], shape=(315,), dtype=float32)\n"
          ]
        }
      ],
      "source": [
        "import tensorflow as tf\n",
        "\n",
        "def zad1(T):\n",
        "    assert T.dtype == tf.float32\n",
        "    T = T*T\n",
        "    ones_tensor = tf.ones_like(T, dtype=tf.float32)\n",
        "    T = tf.subtract(T, ones_tensor)\n",
        "    T = tf.where(T > 2, 0, T)\n",
        "    T = tf.reshape(T, [-1])\n",
        "    return T\n",
        "\n",
        "tensor1 = tf.random.uniform(shape=[5], minval=0, maxval=10, dtype=tf.float32)\n",
        "tensor2 = tf.random.uniform(shape=[10, 5], minval=0, maxval=10, dtype=tf.float32)\n",
        "tensor3 = tf.random.uniform(shape=[5, 7, 9], minval=0, maxval=10, dtype=tf.float32)\n",
        "\n",
        "print(\"Wynik dla tensora o kształcie [5]:\", zad1(tensor1))\n",
        "print(\"Wynik dla tensora o kształcie [10, 5]:\", zad1(tensor2))\n",
        "print(\"Wynik dla tensora o kształcie [5, 7, 9]:\", zad1(tensor3))\n"
      ]
    },
    {
      "cell_type": "markdown",
      "source": [
        "Zadanie 2\n",
        "Napisać funkcję, która:\n",
        "• Przyjmie na wejście tensor 4x3 (zabezpieczyć się przed złymi wymiarami np. poprzez\n",
        "assert(...))\n",
        "• Przekształci ten tensor w tensor 6x2\n",
        "• Dorobi do niego dodatkowy wymiar w osi zerowej i powieli wszystkie wartości wzdłuż\n",
        "tej osi 5 razy\n",
        "• Doda do niej macierz z losowymi wartościami z zakresu 0-10 o tym samym kształcie\n",
        "(nie należy hardkodować wymiarów)\n",
        "• Przytnie wartości poniżej 3 i powyżej 5, po czym zwróci wynikowy tensor\n",
        "Funkcję należy wywołać dla tensora typu tf.int32:\n",
        "[[1, 2 , 3, ], [2, 3, 4], [4, 5, 6], [5, 6, 7]]\n",
        "Należy wykorzystać operacje: tf.constant, tf.shape, tf.reshape, tf.expand_dims, tf.tile,\n",
        "tf.random.uniform, tf.clip_by_value\n"
      ],
      "metadata": {
        "id": "LcyVPdPAnw6X"
      }
    },
    {
      "cell_type": "code",
      "source": [
        "def zad2(T):\n",
        "  assert all(tf.shape(T) == [4, 3])\n",
        "  T=tf.reshape(T,[6,2])\n",
        "  T=tf.expand_dims(T,0)\n",
        "  T=tf.tile(T,[5,1,1])\n",
        "  T=T+tf.random.uniform(shape=tf.shape(T), minval=0, maxval=10,dtype=tf.int32)\n",
        "  T=tf.clip_by_value(T,3,5)\n",
        "  return T\n",
        "\n",
        "Z2=tf.constant([[1, 2 , 3 ], [2, 3, 4], [4, 5, 6], [5, 6, 7]], tf.int32)\n",
        "zad2(Z2)"
      ],
      "metadata": {
        "id": "SWrZrMeYn2nN",
        "colab": {
          "base_uri": "https://localhost:8080/"
        },
        "outputId": "353dbd0c-f82d-4e56-e870-7c3cbe5a79e0"
      },
      "execution_count": 9,
      "outputs": [
        {
          "output_type": "execute_result",
          "data": {
            "text/plain": [
              "<tf.Tensor: shape=(5, 6, 2), dtype=int32, numpy=\n",
              "array([[[5, 5],\n",
              "        [5, 5],\n",
              "        [5, 5],\n",
              "        [5, 5],\n",
              "        [5, 5],\n",
              "        [5, 5]],\n",
              "\n",
              "       [[3, 5],\n",
              "        [5, 5],\n",
              "        [5, 5],\n",
              "        [5, 5],\n",
              "        [5, 5],\n",
              "        [5, 5]],\n",
              "\n",
              "       [[3, 5],\n",
              "        [5, 5],\n",
              "        [5, 5],\n",
              "        [5, 5],\n",
              "        [5, 5],\n",
              "        [5, 5]],\n",
              "\n",
              "       [[3, 5],\n",
              "        [5, 5],\n",
              "        [5, 5],\n",
              "        [5, 5],\n",
              "        [5, 5],\n",
              "        [5, 5]],\n",
              "\n",
              "       [[5, 5],\n",
              "        [3, 4],\n",
              "        [5, 5],\n",
              "        [5, 5],\n",
              "        [5, 5],\n",
              "        [5, 5]]], dtype=int32)>"
            ]
          },
          "metadata": {},
          "execution_count": 9
        }
      ]
    },
    {
      "cell_type": "markdown",
      "source": [
        "Zadanie 3\n",
        "Napisać funkcję, która:\n",
        "• Przyjmie na wejście dwa tensory o identycznym kształcie (zabezpieczyć się przed\n",
        "niezgodnymi kształtami)\n",
        "• Wygeneruje tensor indeksów wszystkich wartości równych 2 w tensorze pierwszym\n",
        "• Na podstawie tensora indeksów wygeneruje wektor ze wszystkimi wartościami\n",
        "odpowiadającymi tym indeksom w tensorze drugim\n",
        "• Obliczy średnią wartość z wynikowego wektora i przemnoży ją o tensor pierwszy\n",
        "• Dokona konkatenacji tensora pierwszego po przemnożeniu i drugiego wzdłuż osi\n",
        "zerowej\n",
        "• Zredukuje wartości wzdłuż osi zerowej do wartości maksymalnej i zwróci wynikowy\n",
        "tensor\n",
        "Funkcję należy wywołać dla dwóch tensorów typu tf.float32:\n",
        "[[1, 2, 3], [4, 3, 2], [5, 2, 3]] i [[78, 43, 23], [45, 77, 32], [99, 88, 77]]\n",
        "Należy wykorzystać operacje: tf.constant, tf.shape, tf.where, tf.gather/tf.gather_nd,\n",
        "tf.math.reduce_mean, tf.concat, tf.math.reduce_max"
      ],
      "metadata": {
        "id": "lArEPoLEnzgR"
      }
    },
    {
      "cell_type": "code",
      "source": [
        "def zad3(T1,T2):\n",
        "  assert all(tf.shape(T1) == tf.shape(T1))\n",
        "  TI=tf.where(T1==2)\n",
        "  V=tf.gather_nd(T2,TI)\n",
        "  avg=tf.math.reduce_mean(V)*T1\n",
        "  T=tf.concat([avg,T2],0)\n",
        "  return tf.math.reduce_max(T,0)\n",
        "\n",
        "T1=tf.constant([[1, 2, 3], [4, 3, 2], [5, 2, 3]], tf.float32)\n",
        "T2=tf.constant([[78, 43, 23], [45, 77, 32], [99, 88, 77]], tf.float32)\n",
        "zad3(T1,T2)"
      ],
      "metadata": {
        "colab": {
          "base_uri": "https://localhost:8080/"
        },
        "id": "1EyQNUlViRom",
        "outputId": "bc2befaa-3e82-46fd-a3f2-2a18de842a2f"
      },
      "execution_count": 13,
      "outputs": [
        {
          "output_type": "execute_result",
          "data": {
            "text/plain": [
              "<tf.Tensor: shape=(3,), dtype=float32, numpy=array([271.66666, 163.     , 163.     ], dtype=float32)>"
            ]
          },
          "metadata": {},
          "execution_count": 13
        }
      ]
    }
  ]
}